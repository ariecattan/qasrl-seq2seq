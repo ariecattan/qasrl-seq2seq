{
 "cells": [
  {
   "cell_type": "code",
   "execution_count": null,
   "id": "06e9e648-3eaf-4503-a5ba-554ef7d49000",
   "metadata": {},
   "outputs": [],
   "source": [
    "from scripts.qasrl_gs_utils import combine_files_tag_with_sentences\n",
    "\n",
    "combine_files_tag_with_sentences(\"qasrl_gs/data/gold/wikinews.dev.gold.csv\", \"qasrl_gs/data/sentences/wikinews.dev.full.csv\", \"qasrl_gs/data/gold/wikinews.dev.combined.csv\")\n",
    "combine_files_tag_with_sentences(\"qasrl_gs/data/gold/wikinews.test.gold.csv\", \"qasrl_gs/data/sentences/wikinews.test.full.csv\", \"qasrl_gs/data/gold/wikinews.test.combined.csv\")"
   ]
  },
  {
   "cell_type": "markdown",
   "id": "0013c89c-ed8a-4bc8-80fd-44e62536871b",
   "metadata": {
    "tags": []
   },
   "source": [
    "# Run one time on new server"
   ]
  },
  {
   "cell_type": "code",
   "execution_count": null,
   "id": "71d1edf2",
   "metadata": {
    "scrolled": true,
    "tags": []
   },
   "outputs": [],
   "source": [
    "!pip install -r requirements.txt\n",
    "!python -m spacy download en_core_web_sm"
   ]
  },
  {
   "cell_type": "code",
   "execution_count": null,
   "id": "45eeae30-af77-4d16-b459-40cb867b1752",
   "metadata": {},
   "outputs": [],
   "source": []
  },
  {
   "cell_type": "markdown",
   "id": "f6c907b3-544d-4e43-bdc2-2e6e63c8bae7",
   "metadata": {
    "tags": []
   },
   "source": [
    "# Run on every notebook restart"
   ]
  },
  {
   "cell_type": "code",
   "execution_count": null,
   "id": "edb27079-5de3-4075-8072-6ace86846623",
   "metadata": {
    "autorun": true,
    "tags": []
   },
   "outputs": [],
   "source": [
    "# Imports\n",
    "\n",
    "from run_summarization import main\n",
    "import os\n",
    "import sys\n",
    "import json\n",
    "\n",
    "# Params\n",
    "\n",
    "qasrl_2015_params = ['--dataset_name', 'qa_srl']\n",
    "qasrl_2020_params = [\n",
    "    \"--train_file\", \"qasrl_gs/data/gold/wikinews.dev.combined.csv\",\n",
    "    \"--validation_file\", \"qasrl_gs/data/gold/wikinews.dev.combined.csv\",\n",
    "    \"--test_file\", \"qasrl_gs/data/gold/wikinews.test.combined.csv\",\n",
    "    \"--text_column\", \"sentence\", \n",
    "    \"--summary_column\", \"answer\"\n",
    "]\n",
    "\n",
    "t5_small_model_params = [\n",
    "    '--model_name_or_path', 't5-small',\n",
    "    '--source_prefix', 'summarize: '\n",
    "]\n",
    "bart_model_params = [\n",
    "    '--model_name_or_path', 'facebook/bart-base'\n",
    "]\n",
    "\n",
    "# Other\n",
    "\n",
    "run = None  # wandb run"
   ]
  },
  {
   "cell_type": "markdown",
   "id": "f7f028e8-c6e4-4b62-8e7c-499d93e75631",
   "metadata": {
    "tags": []
   },
   "source": [
    "# Run once"
   ]
  },
  {
   "cell_type": "code",
   "execution_count": null,
   "id": "ba2b3bdf",
   "metadata": {
    "tags": []
   },
   "outputs": [],
   "source": [
    "# !python run_summarization.py --model_name_or_path t5-small --do_train --do_eval --dataset_name qa_srl --source_prefix \"summarize: \" --output_dir $TMPDIR/tst-summarization --per_device_train_batch_size=4 --per_device_eval_batch_size=4 --num_train_epochs 3.0 --overwrite_output_dir\n",
    "sys.argv = [\n",
    "    'run_summarization.py',\n",
    "    '--do_train',\n",
    "    '--do_eval',\n",
    "    '--output_dir', f'{os.environ[\"TMPDIR\"]}/tst-summarization',\n",
    "    '--per_device_train_batch_size', '4',\n",
    "    '--per_device_eval_batch_size', '4',\n",
    "    '--logging_steps', '100',\n",
    "    '--num_train_epochs', '3.0',\n",
    "    '--overwrite_output_dir',\n",
    "    '--report_to', 'wandb'    \n",
    "]\n",
    "sys.argv.extend(t5_small_model_params)\n",
    "sys.argv.extend(qasrl_2020_params)\n",
    "\n",
    "_, run = main()"
   ]
  },
  {
   "cell_type": "code",
   "execution_count": null,
   "id": "a25830f8-17dc-4b14-88a6-1e0bc32601a6",
   "metadata": {
    "tags": []
   },
   "outputs": [],
   "source": [
    "# !python run_summarization.py --model_name_or_path $TMPDIR/tst-summarization --do_predict --dataset_name qa_srl --output_dir $TMPDIR/tst-summarization --source_prefix \"summarize: \" --predict_with_generate\n",
    "sys.argv = [\n",
    "    'run_summarization.py',\n",
    "    '--model_name_or_path', f'{os.environ[\"TMPDIR\"]}/tst-summarization',\n",
    "    '--do_predict',\n",
    "    '--output_dir', f'{os.environ[\"TMPDIR\"]}/tst-summarization',\n",
    "    '--source_prefix', 'summarize: ',\n",
    "    '--predict_with_generate',\n",
    "    '--eval_accumulation_steps', '10',  # Necessary to avoid OOM where all predictions are kept on one GPU    \n",
    "    '--report_to', 'wandb',\n",
    "    '--wandb_run_name', run.name if run else None\n",
    "]\n",
    "sys.argv.extend(t5_small_model_params)\n",
    "sys.argv.extend(qasrl_2020_params)\n",
    "\n",
    "\n",
    "main()"
   ]
  },
  {
   "cell_type": "code",
   "execution_count": null,
   "id": "c9c51820-6d5d-45d1-b160-ec1e25eecfb5",
   "metadata": {
    "tags": []
   },
   "outputs": [],
   "source": [
    "with open (\"/home/nlp/hirsche5/tmp/tst-summarization/generated_predictions.json\") as f:\n",
    "    predictions = json.loads(f.read())\n",
    "list(zip(predictions['inputs'], predictions['labels'], predictions['predictions']))[:10]"
   ]
  },
  {
   "cell_type": "code",
   "execution_count": null,
   "id": "3de20903-68d7-4f8b-b750-2990e1ba7f38",
   "metadata": {
    "tags": []
   },
   "outputs": [],
   "source": [
    "# !python run_summarization.py --model_name_or_path $TMPDIR/tst-summarization --do_predict_based_on_predictions_file --dataset_name qa_srl --output_dir $TMPDIR/tst-summarization --source_prefix \"summarize: \"\n",
    "sys.argv = [\n",
    "    'run_summarization.py',\n",
    "    '--model_name_or_path', f'{os.environ[\"TMPDIR\"]}/tst-summarization',\n",
    "    '--do_predict_based_on_predictions_file',\n",
    "    '--dataset_name', 'qa_srl',\n",
    "    '--output_dir', f'{os.environ[\"TMPDIR\"]}/tst-summarization',\n",
    "    '--source_prefix', 'summarize: ',\n",
    "    '--report_to', 'wandb',\n",
    "    '--wandb_run_name', run.name    \n",
    "]\n",
    "main()"
   ]
  },
  {
   "cell_type": "markdown",
   "id": "1d341a7e-3cd4-45ed-ac42-49b528e0e633",
   "metadata": {
    "tags": []
   },
   "source": [
    "# Run experiments"
   ]
  },
  {
   "cell_type": "code",
   "execution_count": null,
   "id": "61d37e3b-be2f-4c21-b8d8-55dbf88be64f",
   "metadata": {
    "tags": []
   },
   "outputs": [],
   "source": [
    "\n",
    "batch_size = 4\n",
    "model_name_or_path = 't5-small'\n",
    "\n",
    "# for batch_size in [4, 16]:\n",
    "# for model in ['t5-small', 't5-large']:\n",
    "for preprocess_output_func in ['all', 'first_two_question_answer']:\n",
    "    sys.argv = [\n",
    "        'run_summarization.py',\n",
    "        '--model_name_or_path', model_name_or_path,\n",
    "        '--do_train',\n",
    "        '--do_eval',\n",
    "        '--do_predict',\n",
    "        '--predict_with_generate',\n",
    "        '--do_predict_based_on_predictions_file',\n",
    "        '--dataset_name', 'qa_srl',\n",
    "        '--source_prefix', 'summarize: ',\n",
    "        '--output_dir', f'{os.environ[\"TMPDIR\"]}/tst-summarization',\n",
    "        '--per_device_train_batch_size', str(batch_size),\n",
    "        '--per_device_eval_batch_size', str(batch_size),\n",
    "        '--num_train_epochs', '3.0',\n",
    "        '--overwrite_output_dir',\n",
    "        '--eval_accumulation_steps', '10',  # Necessary to avoid OOM where all predictions are kept on one GPU\n",
    "        '--report_to', 'wandb'    \n",
    "    ]\n",
    "\n",
    "    main()"
   ]
  },
  {
   "cell_type": "markdown",
   "id": "3aed91c5-b6ad-4be6-a680-75e2e050f6eb",
   "metadata": {
    "jp-MarkdownHeadingCollapsed": true,
    "tags": []
   },
   "source": [
    "# Debug mode"
   ]
  },
  {
   "cell_type": "code",
   "execution_count": null,
   "id": "70982efa-1ebf-40e1-956c-93df5e754782",
   "metadata": {},
   "outputs": [],
   "source": [
    "# !python run_summarization.py --model_name_or_path $TMPDIR/tst-summarization --do_predict --dataset_name qa_srl --output_dir $TMPDIR/tst-summarization --source_prefix \"summarize: \" --predict_with_generate --debug_mode\n",
    "sys.argv = [\n",
    "    'run_summarization.py',\n",
    "    '--model_name_or_path', f'{os.environ[\"TMPDIR\"]}/tst-summarization',\n",
    "    '--do_predict',\n",
    "    '--dataset_name', 'qa_srl',\n",
    "    '--output_dir', f'{os.environ[\"TMPDIR\"]}/tst-summarization',\n",
    "    '--source_prefix', 'summarize: ',\n",
    "    '--predict_with_generate',\n",
    "    '--eval_accumulation_steps', '10',  # Necessary to avoid OOM where all predictions are kept on one GPU        \n",
    "    '--debug_mode'\n",
    "]\n",
    "main()"
   ]
  },
  {
   "cell_type": "code",
   "execution_count": null,
   "id": "d6b4201a-c3b1-4219-b379-a28e0497f494",
   "metadata": {
    "tags": []
   },
   "outputs": [],
   "source": [
    "with open (\"/home/nlp/hirsche5/tmp/tst-summarization/generated_predictions.json\") as f:\n",
    "    predictions = json.loads(f.read())\n",
    "list(zip(predictions['inputs'], predictions['labels'], predictions['predictions']))[0]"
   ]
  },
  {
   "cell_type": "code",
   "execution_count": null,
   "id": "417dc49f-3eaa-4392-9235-b7ff5b6dbf14",
   "metadata": {
    "tags": []
   },
   "outputs": [],
   "source": [
    "# !python run_summarization.py --model_name_or_path $TMPDIR/tst-summarization --do_predict_based_on_predictions_file --dataset_name qa_srl --output_dir $TMPDIR/tst-summarization --source_prefix \"summarize: \" --debug_mode --report_to \"wandb\"\n",
    "sys.argv = [\n",
    "    'run_summarization.py',\n",
    "    '--model_name_or_path', f'{os.environ[\"TMPDIR\"]}/tst-summarization',\n",
    "    '--do_predict_based_on_predictions_file',\n",
    "    '--dataset_name', 'qa_srl',\n",
    "    '--output_dir', f'{os.environ[\"TMPDIR\"]}/tst-summarization',\n",
    "    '--source_prefix', 'summarize: ',\n",
    "    '--debug_mode'\n",
    "]\n",
    "main()"
   ]
  },
  {
   "cell_type": "code",
   "execution_count": null,
   "id": "c37f060c-9dca-489c-ab47-43bfdd508286",
   "metadata": {},
   "outputs": [],
   "source": []
  }
 ],
 "metadata": {
  "kernelspec": {
   "display_name": "Python 3 (ipykernel)",
   "language": "python",
   "name": "python3"
  },
  "language_info": {
   "codemirror_mode": {
    "name": "ipython",
    "version": 3
   },
   "file_extension": ".py",
   "mimetype": "text/x-python",
   "name": "python",
   "nbconvert_exporter": "python",
   "pygments_lexer": "ipython3",
   "version": "3.7.11"
  }
 },
 "nbformat": 4,
 "nbformat_minor": 5
}
