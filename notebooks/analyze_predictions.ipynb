{
 "cells": [
  {
   "cell_type": "markdown",
   "metadata": {},
   "source": [
    "# Performance Analysis\n",
    "## joint vs. baseline QASRL/QANom models"
   ]
  },
  {
   "cell_type": "code",
   "execution_count": 1,
   "metadata": {},
   "outputs": [],
   "source": [
    "import json, sys, os\n",
    "from typing import Tuple, Dict, List, Iterable, Any, Callable, Union, Optional\n",
    "import pandas as pd\n",
    "import numpy as np\n",
    "import torch\n",
    "import itertools\n",
    "from collections import defaultdict, Counter\n",
    "%matplotlib inline\n",
    "import matplotlib.pyplot as plt\n",
    "\n",
    "import datasets\n",
    "import qanom\n",
    "from qanom.annotations.common import read_annot_csv\n",
    "\n",
    "module_path = os.path.abspath(os.path.join('..'))\n",
    "if module_path not in sys.path:\n",
    "    sys.path.append(module_path)\n",
    "\n",
    "\n",
    "def report_overlap(**kwargs):\n",
    "    assert len(kwargs)==2\n",
    "    (nm1, s1), (nm2, s2) = tuple(kwargs.items())\n",
    "    s1, s2 = set(s1), set(s2)\n",
    "    print(f\"|{nm1}|={len(s1)}, |{nm2}|={len(s2)};   Union: {len(s1|s2)}  Intersection: {len(s1&s2)} \")\n",
    "    print(f\"|{nm1}-{nm2}|={len(s1-s2)}, |{nm2}-{nm1}|={len(s2-s1)};   \")\n",
    "\n",
    "def plot_counter_as_pie_chart(counter, title=None):\n",
    "    items = list(counter.items())\n",
    "    items = sorted(items, key=lambda kv: kv[0]) # sort by key\n",
    "    labels, sizes = zip(*items)\n",
    "\n",
    "    fig1, ax1 = plt.subplots()\n",
    "    ax1.pie(sizes, labels=labels, autopct='%1.1f%%',\n",
    "            shadow=True, startangle=90, textprops={\"color\":\"orange\"})\n",
    "    if title:\n",
    "        fig1.suptitle(title, fontsize=14, color=\"orange\")\n",
    "    \n",
    "\n",
    "def set_key_column(df, sent_id_lbl, pred_idx_lbl):\n",
    "    df['key'] = df.apply(lambda r: f\"{r[sent_id_lbl]}_{r[pred_idx_lbl]}\", axis=1)\n",
    "\n",
    "def arr_to_buckets(arr: Iterable[int], buckets: Dict[Tuple[int, int], str]):\n",
    "    def to_bucket(e):\n",
    "        for (start, end), label in buckets.items():\n",
    "            if e in list(range(start, end)):\n",
    "                return label\n",
    "        return None\n",
    "    return [to_bucket(e) for e in arr]\n",
    "\n",
    "\n",
    "\n",
    "# Helper functions for jupyter\n",
    "from IPython.display import HTML, display\n",
    "import tabulate\n",
    "import matplotlib.pyplot as plt\n",
    "# usefull general utils\n",
    "def display_table(table):\n",
    "    display(HTML(tabulate.tabulate(table, tablefmt='html')))\n",
    "\n",
    "def display_ndict(nested_dict: Dict[str, Dict[str, Any]], with_mean=True, pprint: Callable = None):\n",
    "    \"\"\" Display two-level nested dict as a pretty table. \"\"\"\n",
    "    if not pprint:\n",
    "        pprint = lambda x:x\n",
    "    row_labels = list(nested_dict.keys())\n",
    "    column_labels = list(list(nested_dict.values())[0].keys())\n",
    "    as_tabular = [[\"-\"] + column_labels] + \\\n",
    "                 [[row] + [pprint(nested_dict[row][col]) for col in column_labels]\n",
    "                  for row in row_labels]\n",
    "    if with_mean:\n",
    "        as_tabular[0] += [\"mean\"]\n",
    "        for i in range(1, len(as_tabular)):\n",
    "            mean = np.mean(as_tabular[i][1:])\n",
    "            as_tabular[i] += [mean]\n",
    "    display_table(as_tabular)"
   ]
  },
  {
   "cell_type": "markdown",
   "metadata": {},
   "source": [
    "### Preperations \n",
    "Load datasets and predictions"
   ]
  },
  {
   "cell_type": "code",
   "execution_count": 2,
   "metadata": {},
   "outputs": [],
   "source": [
    "# Predictions - qanom, joint vs baseline\n",
    "joint_qanom_predictions_fn = \"../trained_models/t5_qanom-joint-23.03.22/generated_predictions.csv\"\n",
    "baseline_qanom_predictions_fn = \"../trained_models/t5_30ep-qanom-baseline-13.03.22/generated_predictions.csv\"\n",
    "joint_qanom_predictions_df = pd.read_csv(joint_qanom_predictions_fn)\n",
    "baseline_qanom_predictions_df = pd.read_csv(baseline_qanom_predictions_fn)\n"
   ]
  },
  {
   "cell_type": "code",
   "execution_count": 2,
   "metadata": {},
   "outputs": [
    {
     "name": "stderr",
     "output_type": "stream",
     "text": [
      "No config specified, defaulting to: qanom/default\n",
      "Reusing dataset qanom (/home/nlp/kleinay/.cache/huggingface/datasets/biu-nlp___qanom/default/1.1.0/44d54349c6d3f70e326208bf63485003c5410d38a6aae87eb80d74cf887627d0)\n"
     ]
    },
    {
     "data": {
      "application/vnd.jupyter.widget-view+json": {
       "model_id": "5560f5d82f4442a0b2e59cbae2f74e49",
       "version_major": 2,
       "version_minor": 0
      },
      "text/plain": [
       "  0%|          | 0/3 [00:00<?, ?it/s]"
      ]
     },
     "metadata": {},
     "output_type": "display_data"
    }
   ],
   "source": [
    "# Datasets\n",
    "qanom_dataset = datasets.load_dataset(\"biu-nlp/qanom\")\n",
    "# qasrl_dataset = datasets.load_dataset(\"kleinay/qa_srl\")\n",
    "\n",
    "qanom_test_df = qanom_dataset['test'].to_pandas()\n",
    "qanom_dev_df = qanom_dataset['validation'].to_pandas()\n",
    "qanom_train_df = qanom_dataset['train'].to_pandas()\n",
    "\n",
    "for df in (qanom_test_df, qanom_dev_df, qanom_train_df):\n",
    "    set_key_column(df, 'sent_id', 'predicate_idx')\n",
    "\n",
    "\n",
    "# Prepare Helper Function: Segregate evaluation by column value\n",
    "qanom_test_df2 = pd.DataFrame(qanom_dataset[\"test\"])                              \n",
    "from run_evaluation import run_qanom_evaluation\n",
    "\n",
    "def evaluate_precision_by_column(predictions_df, column_name, take=None):\n",
    "    values = predictions_df[column_name].unique().tolist()\n",
    "    if take is not None:\n",
    "        values = set(values) & set(take)\n",
    "    eval_per_val = {} # {value : (UA precision, LA precision)}\n",
    "    for val in values:\n",
    "        part_pred_df = predictions_df[predictions_df[column_name]==val].copy()\n",
    "        print(f\"Evaluating for {column_name} == '{val}': (Notice that recall might be un-informative!)\")\n",
    "        eval_results = run_qanom_evaluation(part_pred_df, qanom_test_df2.copy())\n",
    "        print(eval_results[:2], \"\\n\")  \n",
    "        eval_per_val[val] = (eval_results[0].prec(), eval_results[1].prec())\n",
    "    return eval_per_val    "
   ]
  },
  {
   "cell_type": "code",
   "execution_count": null,
   "metadata": {},
   "outputs": [],
   "source": [
    "qadisc_dataset = datasets.load_dataset(\"biu-nlp/qa_discourse\") "
   ]
  },
  {
   "cell_type": "markdown",
   "metadata": {},
   "source": [
    "### Num-answer distribution\n"
   ]
  },
  {
   "cell_type": "code",
   "execution_count": 4,
   "metadata": {},
   "outputs": [
    {
     "ename": "NameError",
     "evalue": "name 'qasrl_dataset' is not defined",
     "output_type": "error",
     "traceback": [
      "\u001b[0;31m---------------------------------------------------------------------------\u001b[0m",
      "\u001b[0;31mNameError\u001b[0m                                 Traceback (most recent call last)",
      "\u001b[0;32m~/tmp/ipykernel_16148/2420167980.py\u001b[0m in \u001b[0;36m<module>\u001b[0;34m\u001b[0m\n\u001b[1;32m      1\u001b[0m \u001b[0;32mfor\u001b[0m \u001b[0msplit\u001b[0m \u001b[0;32min\u001b[0m \u001b[0;34m(\u001b[0m\u001b[0;34m'train'\u001b[0m\u001b[0;34m,\u001b[0m \u001b[0;34m'validation'\u001b[0m\u001b[0;34m,\u001b[0m \u001b[0;34m'test'\u001b[0m\u001b[0;34m)\u001b[0m\u001b[0;34m:\u001b[0m\u001b[0;34m\u001b[0m\u001b[0;34m\u001b[0m\u001b[0m\n\u001b[0;32m----> 2\u001b[0;31m     \u001b[0mdf\u001b[0m \u001b[0;34m=\u001b[0m \u001b[0mqasrl_dataset\u001b[0m\u001b[0;34m[\u001b[0m\u001b[0msplit\u001b[0m\u001b[0;34m]\u001b[0m\u001b[0;34m.\u001b[0m\u001b[0mto_pandas\u001b[0m\u001b[0;34m(\u001b[0m\u001b[0;34m)\u001b[0m\u001b[0;34m\u001b[0m\u001b[0;34m\u001b[0m\u001b[0m\n\u001b[0m\u001b[1;32m      3\u001b[0m     \u001b[0mset_key_column\u001b[0m\u001b[0;34m(\u001b[0m\u001b[0mdf\u001b[0m\u001b[0;34m,\u001b[0m \u001b[0;34m'sent_id'\u001b[0m\u001b[0;34m,\u001b[0m \u001b[0;34m'predicate_idx'\u001b[0m\u001b[0;34m)\u001b[0m\u001b[0;34m\u001b[0m\u001b[0;34m\u001b[0m\u001b[0m\n\u001b[1;32m      4\u001b[0m     \u001b[0mprint\u001b[0m\u001b[0;34m(\u001b[0m\u001b[0;34m\"sentences: \"\u001b[0m\u001b[0;34m,\u001b[0m \u001b[0mdf\u001b[0m\u001b[0;34m.\u001b[0m\u001b[0msent_id\u001b[0m\u001b[0;34m.\u001b[0m\u001b[0mnunique\u001b[0m\u001b[0;34m(\u001b[0m\u001b[0;34m)\u001b[0m\u001b[0;34m)\u001b[0m\u001b[0;34m\u001b[0m\u001b[0;34m\u001b[0m\u001b[0m\n\u001b[1;32m      5\u001b[0m     \u001b[0mprint\u001b[0m\u001b[0;34m(\u001b[0m\u001b[0;34m\"predicates: \"\u001b[0m\u001b[0;34m,\u001b[0m \u001b[0mdf\u001b[0m\u001b[0;34m.\u001b[0m\u001b[0mkey\u001b[0m\u001b[0;34m.\u001b[0m\u001b[0mnunique\u001b[0m\u001b[0;34m(\u001b[0m\u001b[0;34m)\u001b[0m\u001b[0;34m)\u001b[0m\u001b[0;34m\u001b[0m\u001b[0;34m\u001b[0m\u001b[0m\n",
      "\u001b[0;31mNameError\u001b[0m: name 'qasrl_dataset' is not defined"
     ]
    }
   ],
   "source": [
    "for split in ('train', 'validation', 'test'):\n",
    "    df = qasrl_dataset[split].to_pandas()\n",
    "    set_key_column(df, 'sent_id', 'predicate_idx')\n",
    "    print(\"sentences: \", df.sent_id.nunique())\n",
    "    print(\"predicates: \", df.key.nunique())\n",
    "    "
   ]
  },
  {
   "cell_type": "code",
   "execution_count": 44,
   "metadata": {},
   "outputs": [
    {
     "name": "stdout",
     "output_type": "stream",
     "text": [
      "\n",
      " train\n",
      "sentences: 7994\n",
      "sentences with no QAs: 1655\n",
      "QAs: 10985\n",
      "\n",
      " validation\n",
      "sentences: 1834\n",
      "sentences with no QAs: 498\n",
      "QAs: 2632\n",
      "\n",
      " test\n",
      "sentences: 1779\n",
      "sentences with no QAs: 443\n",
      "QAs: 2996\n"
     ]
    }
   ],
   "source": [
    "for split in ('train', 'validation', 'test'):\n",
    "    print(\"\\n\", split)\n",
    "    df = qadisc_dataset[split].to_pandas()#.sentence.nunique()\n",
    "    print(\"sentences:\", df.sent_id.nunique())\n",
    "    print(\"sentences with no QAs:\", df.question.str.len().value_counts()[0])\n",
    "    print(\"QAs:\", df.answers.str.len().sum())\n",
    "    \n"
   ]
  },
  {
   "cell_type": "code",
   "execution_count": null,
   "metadata": {},
   "outputs": [],
   "source": [
    "d=qanom_dataset['test']\n",
    "d['answers']"
   ]
  },
  {
   "cell_type": "code",
   "execution_count": 24,
   "metadata": {},
   "outputs": [
    {
     "name": "stdout",
     "output_type": "stream",
     "text": [
      "(29705, 9)\n"
     ]
    },
    {
     "data": {
      "text/plain": [
       "1    15189\n",
       "2     3742\n",
       "3     1501\n",
       "4      452\n",
       "5      109\n",
       "6       12\n",
       "7        9\n",
       "8        4\n",
       "9        1\n",
       "Name: question, dtype: int64"
      ]
     },
     "execution_count": 24,
     "metadata": {},
     "output_type": "execute_result"
    }
   ],
   "source": [
    "# qasrl_dataset['train'][0]\n",
    "\n",
    "d=qanom_dataset['train']\n",
    "df=d.to_pandas()\n",
    "print(df.shape)\n",
    "# df = df[df['question'].str.len()!=0]\n",
    "# print(df.shape)\n",
    "df.groupby(['sent_id', 'predicate'])['question'].count().value_counts()\n",
    "# n_answers = [len(d) for d in qasrl_dataset['train']['answers']]\n",
    "# Counter(n_answers)"
   ]
  },
  {
   "cell_type": "markdown",
   "metadata": {},
   "source": [
    "## Anaylze by lexical overlap \n"
   ]
  },
  {
   "cell_type": "code",
   "execution_count": 6,
   "metadata": {},
   "outputs": [
    {
     "name": "stdout",
     "output_type": "stream",
     "text": [
      "|nom_train_vrbs|=1569, |nom_dev_vrbs|=880;   Union: 1728  Intersection: 721 \n",
      "|nom_train_vrbs-nom_dev_vrbs|=848, |nom_dev_vrbs-nom_train_vrbs|=159;   \n",
      "|vrb_train_vrbs|=3039, |vrb_dev_vrbs|=468;   Union: 3053  Intersection: 454 \n",
      "|vrb_train_vrbs-vrb_dev_vrbs|=2585, |vrb_dev_vrbs-vrb_train_vrbs|=14;   \n",
      "|joint_train_vrbs|=3384, |nom_dev_vrbs|=880;   Union: 3451  Intersection: 813 \n",
      "|joint_train_vrbs-nom_dev_vrbs|=2571, |nom_dev_vrbs-joint_train_vrbs|=67;   \n"
     ]
    }
   ],
   "source": [
    "\n",
    "def get_verb_form_set(data):\n",
    "    return set(data['verb_form'])\n",
    "\n",
    "nom_train_vrbs = get_verb_form_set(qanom_dataset['train'])\n",
    "nom_dev_vrbs = get_verb_form_set(qanom_dataset['validation'])\n",
    "report_overlap(nom_train_vrbs=nom_train_vrbs, nom_dev_vrbs=nom_dev_vrbs )\n",
    "vrb_train_vrbs = get_verb_form_set(qasrl_dataset['train'])\n",
    "vrb_dev_vrbs = get_verb_form_set(qasrl_dataset['validation'])\n",
    "report_overlap(vrb_train_vrbs=vrb_train_vrbs, vrb_dev_vrbs=vrb_dev_vrbs )\n",
    "joint_train_vrbs = nom_train_vrbs | vrb_train_vrbs\n",
    "report_overlap(joint_train_vrbs=joint_train_vrbs, nom_dev_vrbs=nom_dev_vrbs)\n"
   ]
  },
  {
   "cell_type": "code",
   "execution_count": 3,
   "metadata": {},
   "outputs": [
    {
     "data": {
      "text/plain": [
       "DatasetDict({\n",
       "    train: Dataset({\n",
       "        features: ['sentence', 'sent_id', 'predicate_idx', 'predicate', 'is_verbal', 'verb_form', 'question', 'answers', 'answer_ranges'],\n",
       "        num_rows: 29705\n",
       "    })\n",
       "    validation: Dataset({\n",
       "        features: ['sentence', 'sent_id', 'predicate_idx', 'predicate', 'is_verbal', 'verb_form', 'question', 'answers', 'answer_ranges'],\n",
       "        num_rows: 7502\n",
       "    })\n",
       "    test: Dataset({\n",
       "        features: ['sentence', 'sent_id', 'predicate_idx', 'predicate', 'is_verbal', 'verb_form', 'question', 'answers', 'answer_ranges'],\n",
       "        num_rows: 6937\n",
       "    })\n",
       "})"
      ]
     },
     "execution_count": 3,
     "metadata": {},
     "output_type": "execute_result"
    }
   ],
   "source": [
    "qanom_dataset"
   ]
  },
  {
   "cell_type": "markdown",
   "metadata": {},
   "source": [
    "## Output Role Distribution"
   ]
  },
  {
   "cell_type": "code",
   "execution_count": 29,
   "metadata": {},
   "outputs": [
    {
     "name": "stdout",
     "output_type": "stream",
     "text": [
      "Counter({'what': 1611, 'who': 1220, 'how': 673, 'where': 540, 'when': 410, 'why': 366, 'how much': 30, 'how long': 27})\n"
     ]
    },
    {
     "data": {
      "image/png": "[encoded data removed]",
      "text/plain": [
       "<Figure size 432x288 with 1 Axes>"
      ]
     },
     "metadata": {},
     "output_type": "display_data"
    }
   ],
   "source": [
    "## for simplicity - by WH word\n",
    "qanom_questions = qanom_dataset['test']['question'] \n",
    "qanom_wh_words = [q[0] for q in qanom_questions if q]\n",
    "qanom_wh_dist = Counter(qanom_wh_words)\n",
    "print(qanom_wh_dist)\n",
    "plot_counter_as_pie_chart(qanom_wh_dist, \"QANom Test set - WH distr.\")"
   ]
  },
  {
   "cell_type": "code",
   "execution_count": null,
   "metadata": {},
   "outputs": [],
   "source": [
    "qasrl_questions = qasrl_dataset['validation']['question'] \n",
    "qasrl_wh_words = [q[0] for q in qasrl_questions if q]\n",
    "qasrl_wh_dist = Counter(qasrl_wh_words)\n",
    "print(qasrl_wh_dist)\n",
    "plot_counter_as_pie_chart(qasrl_wh_dist)"
   ]
  },
  {
   "cell_type": "code",
   "execution_count": null,
   "metadata": {},
   "outputs": [],
   "source": [
    "predicted_qanom_by_joint_fn = \"joint_on_qanom_generated_predictions.csv\"\n",
    "predicted_qanom_by_joint_df = pd.read_csv(predicted_qanom_by_joint_fn)\n",
    "predicted_qanom_by_joint_df['key'] = predicted_qanom_by_joint_df.apply(lambda r: f\"{r['qasrl_id']}_{r['verb_idx']}\", axis=1)\n",
    "predicted_qanom_wh_words = predicted_qanom_by_joint_df.question.apply(lambda s: s.split()[0]).tolist()\n",
    "predicted_qanom_wh_dist = Counter(predicted_qanom_wh_words)\n",
    "print(predicted_qanom_wh_dist)\n",
    "plot_counter_as_pie_chart(predicted_qanom_wh_dist)"
   ]
  },
  {
   "cell_type": "markdown",
   "metadata": {},
   "source": [
    "## QA Redundancy\n",
    "Investigate whether the best model (joint) is producing redundant QAs - how many times it produces the same answer twich or the same question twice "
   ]
  },
  {
   "cell_type": "code",
   "execution_count": 17,
   "metadata": {},
   "outputs": [
    {
     "name": "stdout",
     "output_type": "stream",
     "text": [
      "Out of 5221 questions, 106 (2.0%) are repeated\n",
      "Out of 5221 answers, 6 (0.1%) are repeated\n",
      "Out of 5221 QAs, 4 (0.1%) are repeated\n"
     ]
    }
   ],
   "source": [
    "# count duplicate QAs\n",
    "# By Question\n",
    "n_qs = predicted_qanom_by_joint_df[['key', 'question']].shape[0]\n",
    "n_unique_qs = predicted_qanom_by_joint_df[['key', 'question']].drop_duplicates().shape[0]\n",
    "n_redund_qa = n_qs - n_unique_qs \n",
    "print(f\"Out of {n_qs} questions, {n_redund_qa} ({100*n_redund_qa/n_qs:.01f}%) are repeated\")\n",
    "# By Answer\n",
    "n_as = predicted_qanom_by_joint_df[['key', 'answer']].shape[0]\n",
    "n_unique_as = predicted_qanom_by_joint_df[['key', 'answer']].drop_duplicates().shape[0]\n",
    "n_redund_ans = n_as - n_unique_as \n",
    "print(f\"Out of {n_as} answers, {n_redund_ans} ({100*n_redund_ans/n_as:.01f}%) are repeated\")\n",
    "# By QA\n",
    "n_as = predicted_qanom_by_joint_df[['key', 'question', 'answer']].shape[0]\n",
    "n_unique_as = predicted_qanom_by_joint_df[['key', 'question', 'answer']].drop_duplicates().shape[0]\n",
    "n_redund_ans = n_as - n_unique_as \n",
    "print(f\"Out of {n_as} QAs, {n_redund_ans} ({100*n_redund_ans/n_as:.01f}%) are repeated\")\n"
   ]
  },
  {
   "cell_type": "code",
   "execution_count": 24,
   "metadata": {},
   "outputs": [],
   "source": [
    "dupl_qs_df = predicted_qanom_by_joint_df[predicted_qanom_by_joint_df.duplicated(['key', 'question'], keep=False)]\n",
    "dupl_qs_df.to_csv(\"duplicated_questions.csv\")"
   ]
  },
  {
   "cell_type": "markdown",
   "metadata": {},
   "source": [
    "## Performance per #-QAs (output seq length)\n",
    "does the model fails more in longer sequences (more QAs / longer answers)? \n",
    "\n",
    "does permutation sampling by |qas| mitigate this? \n",
    "\n",
    "\n",
    "Note: the prediction files are on test set."
   ]
  },
  {
   "cell_type": "code",
   "execution_count": 21,
   "metadata": {},
   "outputs": [
    {
     "name": "stdout",
     "output_type": "stream",
     "text": [
      "mean num of QAs at gold (all train set): 1.3405388329798276\n",
      "mean num of QAs at gold (all dev set): 1.6430135786246167\n",
      "mean num of QAs at gold (all test set): 1.582344890510949\n"
     ]
    }
   ],
   "source": [
    "gold_mean_num_qas = qanom_train_df.groupby('key').key.count().mean()\n",
    "print(f\"mean num of QAs at gold (all train set): {gold_mean_num_qas}\")\n",
    "gold_mean_num_qas = qanom_dev_df.groupby('key').key.count().mean()\n",
    "print(f\"mean num of QAs at gold (all dev set): {gold_mean_num_qas}\")\n",
    "gold_mean_num_qas = qanom_test_df.groupby('key').key.count().mean()\n",
    "print(f\"mean num of QAs at gold (all test set): {gold_mean_num_qas}\")\n",
    "predictions_df = pd.read_csv(\"/home/nlp/kleinay/tmp/t5-tst-summarization/qanom/qanom/linearization/all_by_answer_ordering/generated_predictions.csv\")\n"
   ]
  },
  {
   "cell_type": "code",
   "execution_count": 4,
   "metadata": {},
   "outputs": [
    {
     "name": "stdout",
     "output_type": "stream",
     "text": [
      "Base Dir: /home/nlp/kleinay/tmp/t5-tst-summarization/qanom/qanom/linearization *** \n",
      "\n",
      "\n",
      " permutate_sample_num_of_qas model:\n",
      "mean num of QAs at prediction (all test set): 2.1895509499136443\n",
      "mean num of QAs at gold (all test set): 1.582344890510949\n",
      "Evaluating for sentence_length_group == '30-49': (Notice that recall might be un-informative!)\n"
     ]
    },
    {
     "name": "stderr",
     "output_type": "stream",
     "text": [
      "/home/nlp/kleinay/miniconda3/envs/seq2seq-qasrl/lib/python3.8/site-packages/pandas/core/indexing.py:1773: SettingWithCopyWarning: \n",
      "A value is trying to be set on a copy of a slice from a DataFrame.\n",
      "Try using .loc[row_indexer,col_indexer] = value instead\n",
      "\n",
      "See the caveats in the documentation: https://pandas.pydata.org/pandas-docs/stable/user_guide/indexing.html#returning-a-view-versus-a-copy\n",
      "  self._setitem_single_column(ilocs[0], value, pi)\n",
      "1894it [00:21, 86.96it/s]ungrammatical question: what did someone contract someone to do? ; all core args are present in core-role active question.\n",
      "1896it [00:21, 93.13it/s]ungrammatical question: what did someone contract someone to do? ; all core args are present in core-role active question.\n",
      "                         \r"
     ]
    },
    {
     "name": "stdout",
     "output_type": "stream",
     "text": [
      "(P: 0.593   R: 0.206   F1: 0.306, P: 0.421   R: 0.146   F1: 0.217) \n",
      "\n",
      "Evaluating for sentence_length_group == '20-29': (Notice that recall might be un-informative!)\n"
     ]
    },
    {
     "name": "stderr",
     "output_type": "stream",
     "text": [
      "2250it [00:24, 87.81it/s]ungrammatical question: what did someone instruct someone to do? ; all core args are present in core-role active question.\n",
      "2248it [00:25, 89.47it/s]ungrammatical question: what did someone instruct someone to do? ; all core args are present in core-role active question.\n",
      "                         \r"
     ]
    },
    {
     "name": "stdout",
     "output_type": "stream",
     "text": [
      "(P: 0.623   R: 0.194   F1: 0.296, P: 0.456   R: 0.142   F1: 0.216) \n",
      "\n",
      "Evaluating for sentence_length_group == '10-19': (Notice that recall might be un-informative!)\n"
     ]
    },
    {
     "name": "stderr",
     "output_type": "stream",
     "text": [
      "798it [00:09, 87.02it/s] "
     ]
    }
   ],
   "source": [
    "# Compare linearization methods\n",
    "\n",
    "# measure mean #-QAs in predicted outputs\n",
    "def anaylze_predictions(out_dir):\n",
    "    model_label = out_dir.split(\"/\")[-1]\n",
    "    predictions_fn = f\"{out_dir}/generated_predictions.csv\"\n",
    "    predictions_df = pd.read_csv(predictions_fn)\n",
    "    set_key_column(predictions_df, 'qasrl_id', 'verb_idx')\n",
    "    predictions_df[\"qa_position\"] = predictions_df.groupby('key').cumcount()\n",
    "    predictions_df[\"qa_position_group\"] = predictions_df.qa_position.apply(lambda n: str(n+1) if n<3 else \">3\") \n",
    "    predictions_df[\"num_qas\"] = predictions_df.groupby('key').qa_position.transform('max') + 1\n",
    "    predictions_df[\"num_qas_group\"] = predictions_df.num_qas.apply(lambda n: str(n) if n<=3 else \">3\") \n",
    "    predictions_df[\"num_qas_group\"] = predictions_df.num_qas.apply(lambda n: str(n) if n<=3 else \">3\") \n",
    "    mean_num_qas = predictions_df.groupby('key').key.count().mean()\n",
    "    print(f\"mean num of QAs at prediction (all test set): {mean_num_qas}\")\n",
    "    gold_mean_num_qas = qanom_test_df.groupby('key').key.count().mean()\n",
    "    print(f\"mean num of QAs at gold (all test set): {gold_mean_num_qas}\")\n",
    "    \n",
    "    # Compute precision per (predicted) sequence-length and qa-location\n",
    "    # print(\"precision by num_qas:\", evaluate_precision_by_column(predictions_df, \"num_qas\")) \n",
    "    # print(\"precision by qa position:\", evaluate_precision_by_column(predictions_df, \"qa_position\")) \n",
    "    # print(\"precision by num_qas (groups):\", evaluate_precision_by_column(predictions_df, \"num_qas_group\")) \n",
    "    # print(\"precision by qa position (groups):\", evaluate_precision_by_column(predictions_df, \"qa_position_group\")) \n",
    "    \n",
    "    # Compute precisoin per dependency range (distance between argument and predicate)\n",
    "    # ans_index = predictions_df.answer_range.str.split(\"~!~\").str.get(0).str.split(\":\").str.get(0).astype(int)\n",
    "    # dep_range = np.absolute(ans_index - predictions_df.verb_idx)\n",
    "    # dependency_range_buckets = {(0,3): \"1-2\", (3,6):\"3-5\", (6,9):\"6-8\", (9,300):\"9-Inf\"}\n",
    "    # predictions_df[\"dep_range_group\"] = arr_to_buckets(dep_range, dependency_range_buckets)\n",
    "    # print(\"precision by dependency range (groups):\", evaluate_precision_by_column(predictions_df, \"dep_range_group\")) \n",
    "    \n",
    "    # Compute precisoin per sentence length\n",
    "    sentence_length = predictions_df.sentence.str.split().str.len()\n",
    "    sent_len_buckets = {(0,10): \"0-9\", (10,20): \"10-19\", (20,30): \"20-29\", (30,50): \"30-49\", (50,1000):\"50+\"}\n",
    "    predictions_df[\"sentence_length_group\"] = arr_to_buckets(sentence_length, sent_len_buckets)\n",
    "    print(\"precision by sentence length (groups):\", evaluate_precision_by_column(predictions_df, \"sentence_length_group\")) \n",
    "    \n",
    "    \n",
    "    \n",
    "    # recall_errs_df = pd.read_csv(f\"{out_dir}/recall_errors.csv\")\n",
    "    # precision_errs_df = pd.read_csv(f\"{out_dir}/precision_errors.csv\")\n",
    "    # instances_with_fn = recall_errs_df.key.drop_duplicates().tolist()\n",
    "    # gold_instances_with_fn = qanom_test_df[qanom_test_df.key.isin(instances_with_fn)]\n",
    "    # mean_num_qas_at_fn = gold_instances_with_fn.groupby('key').key.count().mean()\n",
    "    # print(f\"mean num of QAs (in gold) for predicates that had a False-Negative : {mean_num_qas_at_fn}\")\n",
    "    # instances_with_fp = precision_errs_df.key.drop_duplicates().tolist()\n",
    "    # sys_instances_with_fn = predictions_df[predictions_df.key.isin(instances_with_fp)]\n",
    "    # mean_num_qas_at_fp = sys_instances_with_fn.groupby('key').key.count().mean()\n",
    "    # print(f\"mean num of QAs (in predictions) for predicates that had a False-Positive : {mean_num_qas_at_fp}\")\n",
    "    # # Plot Disribution of Wh-word of mistakes\n",
    "    # whs_predictions = predictions_df.question.str.split().str.get(0)\n",
    "    # plot_counter_as_pie_chart(Counter(whs_predictions), f\"WH distr. of predictions, {model_label}\") \n",
    "    # whs_precision_errs = precision_errs_df.question.str.split().str.get(0)\n",
    "    # plot_counter_as_pie_chart(Counter(whs_precision_errs), f\"WH distr. of precision errors, {model_label}\") \n",
    "    # whs_recall_errs = recall_errs_df.question.str.split().str.get(0)\n",
    "    # plot_counter_as_pie_chart(Counter(whs_recall_errs), f\"WH distr. of recall errors, {model_label}\") \n",
    "    # whs_gold = qanom_test_df.question.str.split().str.get(0)\n",
    "    # plot_counter_as_pie_chart(Counter(whs_gold), f\"WH distr. of gold\") \n",
    "    \n",
    "    # # Plot QA-position of mistakes compared to base \n",
    "    # qa_pos_predictions = predictions_df.groupby([\"qasrl_id\", \"verb_idx\"]).cumcount()\n",
    "    # plot_counter_as_pie_chart(Counter(qa_pos_predictions), f\"QA-Position Distr. in predictions, {model_label}\") \n",
    "    # qa_pos_precision_errs = precision_errs_df.qa_position\n",
    "    # plot_counter_as_pie_chart(Counter(qa_pos_precision_errs), f\"QA-Position Distr. in precision errors, {model_label}\") \n",
    "    # qa_pos_recall_errs = recall_errs_df.qa_position\n",
    "    # plot_counter_as_pie_chart(Counter(qa_pos_recall_errs), f\"QA-Position Distr. in recall errors, {model_label}\") \n",
    "    # qa_pos_gold = qanom_test_df.groupby([\"sent_id\", \"predicate_idx\"]).cumcount()\n",
    "    # plot_counter_as_pie_chart(Counter(qa_pos_gold), f\"QA-Position Distr. in gold\") \n",
    "    \n",
    "    \n",
    "# base_dir = \"/home/nlp/kleinay/tmp/t5-tst-summarization/qasrl/qasrl/linearization\"\n",
    "base_dir = \"/home/nlp/kleinay/tmp/t5-tst-summarization/qanom/qanom/linearization\"\n",
    "# base_dir = \"/home/nlp/kleinay/tmp/t5-tst-summarization/joint_qanom/linearization\"\n",
    "print(f\"Base Dir: {base_dir} *** \\n\")\n",
    "for lin in (\"permutate_sample_num_of_qas\", \"all_by_answer_ordering\"):\n",
    "    output_dir = f\"{base_dir}/{lin}\"\n",
    "    print(f\"\\n {lin} model:\")\n",
    "    anaylze_predictions(output_dir)"
   ]
  },
  {
   "cell_type": "code",
   "execution_count": 4,
   "metadata": {},
   "outputs": [
    {
     "name": "stdout",
     "output_type": "stream",
     "text": [
      "mean num of QAs at prediction (all test set): 2.1895509499136443\n",
      "|qanom_test_df_sents|=1507, |recall_errs_sents|=844;   Union: 1507  Intersection: 844 \n",
      "|qanom_test_df_sents-recall_errs_sents|=663, |recall_errs_sents-qanom_test_df_sents|=0;   \n",
      "|prediction_df_sents|=1159, |prec_errs_sents|=836;   Union: 1159  Intersection: 836 \n",
      "|prediction_df_sents-prec_errs_sents|=323, |prec_errs_sents-prediction_df_sents|=0;   \n"
     ]
    }
   ],
   "source": [
    "out_dir = f\"{base_dir}/permutate_sample_num_of_qas\"\n",
    "model_label = out_dir.split(\"/\")[-1]\n",
    "predictions_fn = f\"{out_dir}/generated_predictions.csv\"\n",
    "predictions_df = pd.read_csv(predictions_fn)\n",
    "set_key_column(predictions_df, 'qasrl_id', 'verb_idx')\n",
    "mean_num_qas = predictions_df.groupby('key').key.count().mean()\n",
    "print(f\"mean num of QAs at prediction (all test set): {mean_num_qas}\")\n",
    "# gold_mean_num_qas = qanom_test_df.groupby('key').key.count().mean()\n",
    "# print(f\"mean num of QAs at gold (all test set): {gold_mean_num_qas}\")\n",
    "\n",
    "recall_errs_df = pd.read_csv(f\"{out_dir}/recall_errors.csv\")\n",
    "precision_errs_df = pd.read_csv(f\"{out_dir}/precision_errors.csv\")\n",
    "instances_with_fn = recall_errs_df.key.drop_duplicates().tolist()\n",
    "gold_instances_with_fn = qanom_test_df[qanom_test_df.key.isin(instances_with_fn)]\n",
    "mean_num_qas_at_fn = gold_instances_with_fn.groupby('key').key.count().mean()\n",
    "report_overlap(qanom_test_df_sents=set(qanom_test_df.sent_id), recall_errs_sents=set(recall_errs_df.qasrl_id ))\n",
    "report_overlap(prediction_df_sents=set(predictions_df.qasrl_id), prec_errs_sents=set(precision_errs_df.qasrl_id ))"
   ]
  },
  {
   "cell_type": "code",
   "execution_count": 20,
   "metadata": {},
   "outputs": [
    {
     "data": {
      "text/plain": [
       "1-2      1763\n",
       "9-Inf    1345\n",
       "3-5      1236\n",
       "6-8       727\n",
       "Name: dep_range_group, dtype: int64"
      ]
     },
     "execution_count": 20,
     "metadata": {},
     "output_type": "execute_result"
    }
   ],
   "source": [
    "ans_index = predictions_df.answer_range.str.split(\"~!~\").str.get(0).str.split(\":\").str.get(0).astype(int)\n",
    "dep_range = np.absolute(ans_index - predictions_df.verb_idx)\n",
    "dependency_range_buckets = {(0,3): \"1-2\", (3,6):\"3-5\", (6,9):\"6-8\", (9,300):\"9-Inf\"}\n",
    "predictions_df[\"dep_range_group\"] = arr_to_buckets(dep_range, dependency_range_buckets)\n",
    "predictions_df[\"dep_range_group\"].value_counts()\n",
    "sentence_length = predictions_df.sentence.str.split().str.len()\n",
    "sent_len_buckets = {(0,10): \"0-9\", (10,20): \"10-19\", (20,30): \"20-29\", (30,50): \"30-49\", (50,1000):\"50+\"}\n",
    "predictions_df[\"sentence_length_group\"] = arr_to_buckets(sentence_length, sent_len_buckets)\n",
    "predictions_df[\"sentence_length_group\"].value_counts()\n",
    "    \n"
   ]
  },
  {
   "cell_type": "code",
   "execution_count": 9,
   "metadata": {},
   "outputs": [
    {
     "data": {
      "text/html": [
       "<table>\n",
       "<tbody>\n",
       "<tr><td>1-2               </td><td>6-8              </td><td>9-Inf             </td><td>3-5              </td></tr>\n",
       "<tr><td>73.69614512471655 </td><td>61.17824773413897</td><td>54.401805869074494</td><td>69.36416184971098</td></tr>\n",
       "<tr><td>53.004535147392296</td><td>43.80664652567976</td><td>41.309255079006775</td><td>47.97687861271676</td></tr>\n",
       "</tbody>\n",
       "</table>"
      ],
      "text/plain": [
       "<IPython.core.display.HTML object>"
      ]
     },
     "metadata": {},
     "output_type": "display_data"
    }
   ],
   "source": [
    "x={'1-2': (0.7369614512471655, 0.530045351473923), '6-8': (0.6117824773413897, 0.4380664652567976), '9-Inf': (0.5440180586907449, 0.41309255079006774), '3-5': (0.6936416184971098, 0.4797687861271676)}\n",
    "key =x.keys()\n",
    "vals = np.array(list(zip(*x.values())))*100\n",
    "display_table([key] + list(vals) )"
   ]
  }
 ],
 "metadata": {
  "interpreter": {
   "hash": "efc159d1a32205ec9db73f14cd17171e4e15bf26729f2bc17d41c8a634b0d97c"
  },
  "kernelspec": {
   "display_name": "Python 3.8.11 ('seq2seq-qasrl')",
   "language": "python",
   "name": "python3"
  },
  "language_info": {
   "codemirror_mode": {
    "name": "ipython",
    "version": 3
   },
   "file_extension": ".py",
   "mimetype": "text/x-python",
   "name": "python",
   "nbconvert_exporter": "python",
   "pygments_lexer": "ipython3",
   "version": "3.8.11"
  },
  "orig_nbformat": 4
 },
 "nbformat": 4,
 "nbformat_minor": 2
}
