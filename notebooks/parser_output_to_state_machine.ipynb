{
 "cells": [
  {
   "cell_type": "markdown",
   "id": "689a546f-dbd5-4d55-b6df-b25465a0971b",
   "metadata": {},
   "source": [
    "# Converts the output from the parser to format that the state machine docker can read (for evaluation purposes)"
   ]
  },
  {
   "cell_type": "code",
   "execution_count": 11,
   "id": "6225471a-bd3d-4853-92fb-c81ee4370805",
   "metadata": {
    "tags": []
   },
   "outputs": [
    {
     "data": {
      "text/plain": [
       "999"
      ]
     },
     "execution_count": 11,
     "metadata": {},
     "output_type": "execute_result"
    }
   ],
   "source": [
    "import json\n",
    "\n",
    "data_dir = \"../data\"\n",
    "\n",
    "items = []\n",
    "with open(f\"{data_dir}/nrl_parser_output_qasrl_gs_test.jsonl\") as f:\n",
    "    x = f.readline()\n",
    "    while x is not None and x != \"\":\n",
    "        items.append(json.loads(x))\n",
    "        x = f.readline()\n",
    "    \n",
    "len(items)"
   ]
  },
  {
   "cell_type": "code",
   "execution_count": 15,
   "id": "d09d2133-a1a4-45db-8b17-3f639cc51d5a",
   "metadata": {
    "tags": []
   },
   "outputs": [],
   "source": [
    "from typing import Tuple\n",
    "import pandas as pd\n",
    "from dataclasses import dataclass\n",
    "from dataclasses_json import dataclass_json\n",
    "\n",
    "@dataclass_json\n",
    "@dataclass\n",
    "class DataRow:\n",
    "    qasrl_id: str\n",
    "    verb_idx: int\n",
    "    verb: str\n",
    "    question: str\n",
    "    answer: str\n",
    "    answer_range: str  # e.g., 12:24\n",
    "    sentence: str\n",
    "    \n",
    "ANSWER_SEPARATOR = \"~!~\"\n",
    "\n",
    "def convert_answer_span_to_csv_format(answer_span: dict) -> Tuple[str, str]:\n",
    "    return {\n",
    "        \"answer\": answer_span['text'],\n",
    "        \"answer_range\": f\"{answer_span['start']}:{answer_span['end']}\"\n",
    "    }\n",
    "\n",
    "\n",
    "data = []\n",
    "for item_i, item in enumerate(items):\n",
    "    sentence = \" \".join(item['words'])\n",
    "    for verb_i, verb_item in enumerate(item['verbs']):\n",
    "        verb = verb_item['verb']\n",
    "        verb_idx = int(verb_item['index'])\n",
    "        for qa_i, qa_pair in enumerate(verb_item['qa_pairs']):\n",
    "            question = qa_pair['question']\n",
    "            spans = qa_pair['spans']\n",
    "            answer_df = pd.DataFrame(convert_answer_span_to_csv_format(span) for span in spans)\n",
    "            answer = ANSWER_SEPARATOR.join(list(answer_df['answer']))\n",
    "            answer_range = ANSWER_SEPARATOR.join(list(answer_df['answer_range']))\n",
    "            \n",
    "            qasrl_id = f\"{item_i}_{verb_i}_{qa_i}\"\n",
    "            data.append(DataRow(qasrl_id, verb_idx, verb, question, answer, answer_range, sentence))\n",
    "            \n",
    "\n",
    "\n",
    "            \n",
    "                "
   ]
  },
  {
   "cell_type": "code",
   "execution_count": 17,
   "id": "6a62c9b5-a5f9-4ebd-9e5e-a96b85466d8b",
   "metadata": {},
   "outputs": [],
   "source": [
    "input_df = pd.DataFrame(data_row.to_dict() for data_row in data)\n",
    "input_df.to_csv(f\"{data_dir}/input_file.csv\", index=False)"
   ]
  },
  {
   "cell_type": "markdown",
   "id": "4b2f6b11-f84f-4fd7-9ee5-70fed6539a7f",
   "metadata": {},
   "source": [
    "### Run state machine"
   ]
  },
  {
   "cell_type": "code",
   "execution_count": null,
   "id": "e065a7e4-41d1-4421-a1e7-0545d76fc19a",
   "metadata": {},
   "outputs": [],
   "source": [
    "!docker run -it -v \"$(pwd)/data/:/data\" --rm --name qasrl hirscheran/qasrl_state_machine_example \"file\" \"/data/input_file.csv\" \"/data/output_file.csv\""
   ]
  },
  {
   "cell_type": "markdown",
   "id": "932b0c9e-183f-419a-b98b-f377b2b3f642",
   "metadata": {},
   "source": [
    "### Add sentence to output_file"
   ]
  },
  {
   "cell_type": "code",
   "execution_count": 22,
   "id": "554f36fc-73a4-4d6e-828b-141022965696",
   "metadata": {},
   "outputs": [],
   "source": [
    "import pandas as pd\n",
    "\n",
    "output_df = pd.read_csv(f\"{data_dir}/output_file.csv\")\n",
    "\n",
    "\n",
    "def take_sentence_from_input_df(qasrl_id: str) -> str:\n",
    "    rows = input_df[input_df['qasrl_id'] == qasrl_id]\n",
    "    assert rows.shape[0] == 1\n",
    "    row = rows.iloc[0]\n",
    "    return row['sentence']\n",
    "\n",
    "output_df['sentence'] = output_df['qasrl_id'].apply(lambda qasrl_id: take_sentence_from_input_df(qasrl_id))\n",
    "\n",
    "output_df.to_csv(f\"{data_dir}/output_file_with_sentence.csv\", index=False)"
   ]
  }
 ],
 "metadata": {
  "kernelspec": {
   "display_name": "eran_nlp_38",
   "language": "python",
   "name": "eran_nlp_38"
  },
  "language_info": {
   "codemirror_mode": {
    "name": "ipython",
    "version": 3
   },
   "file_extension": ".py",
   "mimetype": "text/x-python",
   "name": "python",
   "nbconvert_exporter": "python",
   "pygments_lexer": "ipython3",
   "version": "3.8.12"
  }
 },
 "nbformat": 4,
 "nbformat_minor": 5
}
